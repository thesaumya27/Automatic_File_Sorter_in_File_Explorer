{
 "cells": [
  {
   "cell_type": "code",
   "execution_count": 1,
   "id": "fb88dc73-7da7-45f6-8598-e5d1e60df631",
   "metadata": {},
   "outputs": [],
   "source": [
    "import os, shutil"
   ]
  },
  {
   "cell_type": "code",
   "execution_count": 2,
   "id": "99c70e54-9068-4c23-b5a3-bba0d2154571",
   "metadata": {},
   "outputs": [],
   "source": [
    "path = r\"C:/Users/hp/Downloads/Telegram Desktop/\""
   ]
  },
  {
   "cell_type": "code",
   "execution_count": 8,
   "id": "8153378a-b30e-45e6-b155-9a1fcc239927",
   "metadata": {},
   "outputs": [],
   "source": [
    "file_name = os.listdir(path)"
   ]
  },
  {
   "cell_type": "code",
   "execution_count": 7,
   "id": "6e7cde44-1328-44e6-83fc-56872bedb1ef",
   "metadata": {},
   "outputs": [],
   "source": [
    "folder_names = ['pdf files', 'image files', 'audio files', 'mp4 files', 'mkv files']\n",
    "\n",
    "for loop in range(0,5):\n",
    "    if not os.path.exists(path + folder_names[loop]):\n",
    "        #print(path + folder_names[loop])\n",
    "        os.makedirs(path + folder_names[loop])\n",
    "\n",
    "for file in file_name:\n",
    "    if \".pdf\" in file and not os.path.exists(path + \"pdf files/\" + file):\n",
    "        shutil.move(path + file, path + \"pdf files/\" + file)\n",
    "    elif \".jpg\" in file and not os.path.exists(path + \"image files/\" + file):\n",
    "        shutil.move(path + file, path + \"image files/\" + file)\n",
    "    elif \".mp3\" in file and not os.path.exists(path + \"audio files/\" + file):\n",
    "        shutil.move(path + file, path + \"audio files/\" + file)\n",
    "    elif \".mp4\" in file and not os.path.exists(path + \"mp4 files/\" + file):\n",
    "        shutil.move(path + file, path + \"mp4 files/\" + file)\n",
    "    elif \".mkv\" in file and not os.path.exists(path + \"mkv files/\" + file):\n",
    "        shutil.move(path + file, path + \"mkv files/\" + file)"
   ]
  },
  {
   "cell_type": "code",
   "execution_count": null,
   "id": "e635c248-fb9d-4703-94fa-6a409504b954",
   "metadata": {},
   "outputs": [],
   "source": []
  }
 ],
 "metadata": {
  "kernelspec": {
   "display_name": "Python 3 (ipykernel)",
   "language": "python",
   "name": "python3"
  },
  "language_info": {
   "codemirror_mode": {
    "name": "ipython",
    "version": 3
   },
   "file_extension": ".py",
   "mimetype": "text/x-python",
   "name": "python",
   "nbconvert_exporter": "python",
   "pygments_lexer": "ipython3",
   "version": "3.12.7"
  }
 },
 "nbformat": 4,
 "nbformat_minor": 5
}
